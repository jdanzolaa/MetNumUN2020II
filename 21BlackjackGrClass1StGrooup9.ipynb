{
  "nbformat": 4,
  "nbformat_minor": 0,
  "metadata": {
    "colab": {
      "name": "21BlackjackGrClass1StGrooup9",
      "provenance": []
    },
    "kernelspec": {
      "name": "python3",
      "display_name": "Python 3"
    }
  },
  "cells": [
    {
      "cell_type": "markdown",
      "metadata": {
        "id": "tGkFrokIA87l"
      },
      "source": [
        "# Laboratorio métodos numéricos"
      ]
    },
    {
      "cell_type": "code",
      "metadata": {
        "id": "b5-Af0FGlBdd"
      },
      "source": [
        "import random\n",
        "import matplotlib.pyplot as plt"
      ],
      "execution_count": null,
      "outputs": []
    },
    {
      "cell_type": "markdown",
      "metadata": {
        "id": "cE76qi4uJhmg"
      },
      "source": [
        "##Funcion de Monte Carlo\n",
        "Funcion que retorna un diccionario cuya llave es la cantidad de cartas requeridas para hacer blackjack y su valor la cantidad acumulada de aciertos para esa cantidad de cartas"
      ]
    },
    {
      "cell_type": "code",
      "metadata": {
        "id": "QK951G9ByfWq"
      },
      "source": [
        "def blackjack(iterations, deck_in, init_deck = []):\n",
        "  results = {}\n",
        "  success = 0\n",
        "  for i in range(iterations):\n",
        "    deck = deck_in.copy()\n",
        "    my_cards = init_deck.copy()\n",
        "    card_count = 0\n",
        "    while(sum(my_cards)<21):\n",
        "      card = random.choice(deck)\n",
        "      my_cards.append(card)\n",
        "      deck.remove(card)\n",
        "      card_count += 1\n",
        "    if(sum(my_cards)==21):\n",
        "      success += 1\n",
        "      if card_count not in results:\n",
        "        results[card_count] = 0  \n",
        "      results[card_count] += 1\n",
        "  return results"
      ],
      "execution_count": null,
      "outputs": []
    },
    {
      "cell_type": "markdown",
      "metadata": {
        "id": "aY5cEq-YUTO-"
      },
      "source": [
        "##Funcion de estadisticas\n",
        "Función para imprimir las estadisticas arrojadas por la funcion de Monte Carlo"
      ]
    },
    {
      "cell_type": "code",
      "metadata": {
        "id": "X4thoEDAUSlB"
      },
      "source": [
        "def stats(result, iterations):\n",
        "  sum_mean = 0\n",
        "  print(\"21 probability: \", sum(result.values())/iterations)\n",
        "  for key in result:\n",
        "    sum_mean += key * result[key]\n",
        "  try:\n",
        "    print(\"Average card number: \", sum_mean/sum(result.values()))\n",
        "  except ZeroDivisionError:\n",
        "    print(\"Average card number: 0\")\n",
        "  try:\n",
        "    print(\"Max card number: \", max(result.keys()))\n",
        "  except ValueError:\n",
        "    print(\"Max card number: 0\")"
      ],
      "execution_count": null,
      "outputs": []
    },
    {
      "cell_type": "markdown",
      "metadata": {
        "id": "rrcTrUT1Jboj"
      },
      "source": [
        "##Punto 1:\n",
        "Estimate the probability of getting a 21, the average number of cards required to complete 21 and plot the experimental distribution of the number of card required to complete 21 drawing cards sequentially from a shuffled Spanish 48-card deck with card values **[1,2,3,4,5,6,7,10,11,12,1,2,3,4,5,6,7,8,9,10,11,12,1,2,3,4,5,6,7,8,9,10,11,12,1,2,3,4,5,6,7,8,9,10,11,12]** and from a shuffled Poker 52-card with card values **[1,2,3,4,5,6,7,8,9,10,11,12,13,1,2,3,4,5,6,7,8,9,10,11,12,13,1,2,3,4,5,6,7,8,9,10,11,12,13,1,2,3,4,5,6,7,8,9,10,11,12,13]** using Montecarlo with 10 millions simulations."
      ]
    },
    {
      "cell_type": "code",
      "metadata": {
        "id": "MtYz6pQvwXK1",
        "outputId": "10aa96e3-7ed1-405d-eba6-299c10723e98",
        "colab": {
          "base_uri": "https://localhost:8080/",
          "height": 350
        }
      },
      "source": [
        "pocker_deck = [1,2,3,4,5,6,7,8,9,10,11,12,13]*4\n",
        "iterations = int(10e6)\n",
        "result = blackjack(iterations, pocker_deck)\n",
        "print(\"Poker deck:\")\n",
        "stats(result, iterations)\n",
        "plt.bar(result.keys(), result.values(), 0.8, color='g')"
      ],
      "execution_count": null,
      "outputs": [
        {
          "output_type": "stream",
          "text": [
            "Poker deck:\n",
            "21 probability:  0.1449237\n",
            "Average card number:  3.2165028908315203\n",
            "Max card number:  9\n"
          ],
          "name": "stdout"
        },
        {
          "output_type": "execute_result",
          "data": {
            "text/plain": [
              "<BarContainer object of 8 artists>"
            ]
          },
          "metadata": {
            "tags": []
          },
          "execution_count": 4
        },
        {
          "output_type": "display_data",
          "data": {
            "image/png": "[encoded data removed]",
            "text/plain": [
              "<Figure size 432x288 with 1 Axes>"
            ]
          },
          "metadata": {
            "tags": [],
            "needs_background": "light"
          }
        }
      ]
    },
    {
      "cell_type": "code",
      "metadata": {
        "id": "LI2nfoQxEdkA",
        "outputId": "d88076f4-de08-4a60-d40e-4546220a4d36",
        "colab": {
          "base_uri": "https://localhost:8080/",
          "height": 333
        }
      },
      "source": [
        "spanish_deck = [1,2,3,4,5,6,7,10,11,12]*4\n",
        "result = blackjack(iterations, spanish_deck)\n",
        "print(\"Spanish deck:\")\n",
        "stats(result, iterations)\n",
        "plt.bar(result.keys(), result.values(), 0.8, color='g');"
      ],
      "execution_count": null,
      "outputs": [
        {
          "output_type": "stream",
          "text": [
            "Spanish deck:\n",
            "21 probability:  0.160185\n",
            "Average card number:  3.742971564128976\n",
            "Max card number:  10\n"
          ],
          "name": "stdout"
        },
        {
          "output_type": "display_data",
          "data": {
            "image/png": "[encoded data removed]",
            "text/plain": [
              "<Figure size 432x288 with 1 Axes>"
            ]
          },
          "metadata": {
            "tags": [],
            "needs_background": "light"
          }
        }
      ]
    },
    {
      "cell_type": "markdown",
      "metadata": {
        "id": "UjYe0agJJe22"
      },
      "source": [
        "##Punto 2:\n",
        "Estimate the probability of getting a 21, the average number of cards required to complete 21 and plot the experimental distribution of the number of card required to complete 21 drawing cards sequentially from a shuffled Spanish 48-card deck with card values **[1,2,3,4,5,6,7,10,10,10,1,2,3,4,5,6,7,8,9,10,10,10,1,2,3,4,5,6,7,8,9,10,10,10,1,2,3,4,5,6,7,8,9,10,10,10]** and from a shuffled Poker 52-card deck with card values **[1,2,3,4,5,6,7,8,9,10,11,12,13,1,2,3,4,5,6,7,8,9,10,10,10,10,1,2,3,4,5,6,7,8,9,10,10,10,10,1,2,3,4,5,6,7,8,9,10,10,10,10]** using Montecarlo with 10 millions simulations."
      ]
    },
    {
      "cell_type": "code",
      "metadata": {
        "id": "x_pCB6JmEvhr",
        "outputId": "2473a86a-26a3-4ea6-ca38-c1321d83066c",
        "colab": {
          "base_uri": "https://localhost:8080/",
          "height": 333
        }
      },
      "source": [
        "pocker_deck_m10 = [1,2,3,4,5,6,7,8,9,10,10,10,10]*4\n",
        "iterations = int(10e6)\n",
        "result_1 = blackjack(iterations, pocker_deck_m10)\n",
        "print(\"Poker deck:\")\n",
        "stats(result_1, iterations)\n",
        "plt.bar(result_1.keys(), result_1.values(), 0.8, color='g');"
      ],
      "execution_count": null,
      "outputs": [
        {
          "output_type": "stream",
          "text": [
            "Poker deck:\n",
            "21 probability:  0.1402862\n",
            "Average card number:  3.577259915800699\n",
            "Max card number:  10\n"
          ],
          "name": "stdout"
        },
        {
          "output_type": "display_data",
          "data": {
            "image/png": "[encoded data removed]",
            "text/plain": [
              "<Figure size 432x288 with 1 Axes>"
            ]
          },
          "metadata": {
            "tags": [],
            "needs_background": "light"
          }
        }
      ]
    },
    {
      "cell_type": "code",
      "metadata": {
        "id": "P9R18vnaEpSA",
        "outputId": "4b81ced2-63d1-41bd-b5d4-72b071ab288b",
        "colab": {
          "base_uri": "https://localhost:8080/",
          "height": 333
        }
      },
      "source": [
        "spanish_deck_m10 = [1,2,3,4,5,6,7,10,10,10]*4\n",
        "result = blackjack(iterations, spanish_deck_m10)\n",
        "print(\"Spanish deck:\")\n",
        "stats(result, iterations)\n",
        "plt.bar(result.keys(), result.values(), 0.8, color='g');"
      ],
      "execution_count": null,
      "outputs": [
        {
          "output_type": "stream",
          "text": [
            "Spanish deck:\n",
            "21 probability:  0.1661013\n",
            "Average card number:  3.9547751883940703\n",
            "Max card number:  10\n"
          ],
          "name": "stdout"
        },
        {
          "output_type": "display_data",
          "data": {
            "image/png": "[encoded data removed]",
            "text/plain": [
              "<Figure size 432x288 with 1 Axes>"
            ]
          },
          "metadata": {
            "tags": [],
            "needs_background": "light"
          }
        }
      ]
    },
    {
      "cell_type": "markdown",
      "metadata": {
        "id": "Q_SSG017Jrtq"
      },
      "source": [
        "##Punto 3:\n",
        "Estimate the probability of getting a 21, the average total number of cards required to complete 21 (including the three that you start with) and plot the experimental distribution of the number of card required to complete 21 with drawing cards sequentially from a shuffled Spanish 48-card deck with 3 10’s and a shuffled Poker 52-card deck with 4 10’s, assuming that you have in your hand the cards [7,7,5]ae and the remaining deck has n/2 cards. You can pick the n/2 cards in the remaining deck in whatever way you choose but with restriction that this has maximum two 7s and three 5, you have to keep the remaining deck fixed through the simulations, use Montecarlo with 10 millions simulations."
      ]
    },
    {
      "cell_type": "code",
      "metadata": {
        "id": "NgMSip9xJweV",
        "outputId": "d48e6a08-4e9f-47c7-de25-5a04c4e5df30",
        "colab": {
          "base_uri": "https://localhost:8080/",
          "height": 333
        }
      },
      "source": [
        "init_deck = [7,7,5]\n",
        "iterations = int(10e6)\n",
        "pocker_deck_less = [1,2,3,4,6,8,9,10,10,10,10]*2 + [5]\n",
        "result = blackjack(iterations, pocker_deck_less, init_deck)\n",
        "print(\"Poker deck:\")\n",
        "stats(result, iterations)\n",
        "plt.bar(result.keys(), result.values(), 0.8, color='g');"
      ],
      "execution_count": null,
      "outputs": [
        {
          "output_type": "stream",
          "text": [
            "Poker deck:\n",
            "21 probability:  0.0907889\n",
            "Average card number:  1.0436407974983726\n",
            "Max card number:  2\n"
          ],
          "name": "stdout"
        },
        {
          "output_type": "display_data",
          "data": {
            "image/png": "[encoded data removed]",
            "text/plain": [
              "<Figure size 432x288 with 1 Axes>"
            ]
          },
          "metadata": {
            "tags": [],
            "needs_background": "light"
          }
        }
      ]
    },
    {
      "cell_type": "code",
      "metadata": {
        "id": "b8fKzxdIFr4Z",
        "outputId": "4827961e-cdce-472a-a033-2356882ddad4",
        "colab": {
          "base_uri": "https://localhost:8080/",
          "height": 344
        }
      },
      "source": [
        "spanish_deck_less = [1,2,3,4,6,10,10,10]*4 + [5]\n",
        "result = blackjack(iterations, spanish_deck_less, init_deck)\n",
        "print(\"Spanish deck:\")\n",
        "stats(result, iterations)\n",
        "plt.bar(result.keys(), result.values(), 0.8, color='g');"
      ],
      "execution_count": null,
      "outputs": [
        {
          "output_type": "stream",
          "text": [
            "Spanish deck:\n",
            "21 probability:  0.1324319\n",
            "Average card number:  1.0855367928724122\n",
            "Max card number:  2\n"
          ],
          "name": "stdout"
        },
        {
          "output_type": "display_data",
          "data": {
            "image/png": "[encoded data removed]",
            "text/plain": [
              "<Figure size 432x288 with 1 Axes>"
            ]
          },
          "metadata": {
            "tags": [],
            "needs_background": "light"
          }
        }
      ]
    },
    {
      "cell_type": "markdown",
      "metadata": {
        "id": "5KMjT5SDGATA"
      },
      "source": [
        "##Punto 4:\n",
        "Find two remaining decks with 8 cards for a Spanish 48-card deck with 3 10’s and for a Poker 52-card deck with 4 10’s; one remaining deck with 8 cards that has the highest probability of getting 21 (hot deck) and the other remaining deck with 8 cards that has the lowest probability of getting 21(cold deck). Assuming that you have in your hand the cards [7,7,5], calculate analytically the probabilities of getting a 21 for both the hot an cold deck, estimate this probabilities of getting a 21, the average total number of cards required to complete 21 (including the three that you start with) and plot the experimental distribution of the total number of card required to complete 21 (including the three that you start with) using Montecarlo with 10 millions simulations."
      ]
    },
    {
      "cell_type": "code",
      "metadata": {
        "id": "78dE7THQOBbB",
        "outputId": "3093434d-6860-44fc-bec4-742379eecfef",
        "colab": {
          "base_uri": "https://localhost:8080/",
          "height": 34
        }
      },
      "source": [
        "prob_get_2 = 4/8\n",
        "prob_get_first_1 = 4/8\n",
        "prob_get_second_1 = 3/7\n",
        "print(\"Calculated probability\", prob_get_2 + (prob_get_first_1 * prob_get_second_1))"
      ],
      "execution_count": null,
      "outputs": [
        {
          "output_type": "stream",
          "text": [
            "Calculated probability 0.7142857142857143\n"
          ],
          "name": "stdout"
        }
      ]
    },
    {
      "cell_type": "code",
      "metadata": {
        "id": "WEPx5ZVELVSF",
        "outputId": "e838db86-a48b-45dc-8357-90b415040f4f",
        "colab": {
          "base_uri": "https://localhost:8080/",
          "height": 344
        }
      },
      "source": [
        "init_deck = [7,7,5]\n",
        "iterations = int(10e6)\n",
        "hot_deck = [1,2]*4\n",
        "result = blackjack(iterations, hot_deck, init_deck)\n",
        "print(\"Hot deck:\")\n",
        "stats(result, iterations)\n",
        "plt.bar(result.keys(), result.values(), 0.8, color='g');"
      ],
      "execution_count": null,
      "outputs": [
        {
          "output_type": "stream",
          "text": [
            "Hot deck:\n",
            "21 probability:  0.7143053\n",
            "Average card number:  1.2998199789361775\n",
            "Max card number:  2\n"
          ],
          "name": "stdout"
        },
        {
          "output_type": "display_data",
          "data": {
            "image/png": "[encoded data removed]",
            "text/plain": [
              "<Figure size 432x288 with 1 Axes>"
            ]
          },
          "metadata": {
            "tags": [],
            "needs_background": "light"
          }
        }
      ]
    },
    {
      "cell_type": "code",
      "metadata": {
        "id": "BVePFulELVJa",
        "outputId": "ade70439-0f78-43b5-bbd7-dcc1677a4934",
        "colab": {
          "base_uri": "https://localhost:8080/",
          "height": 333
        }
      },
      "source": [
        "poker_deck_cold = [3,4,6,8,9,10,10,10,10]*4 + [7,7,5,5,5]\n",
        "result = blackjack(iterations, poker_deck_cold, init_deck)\n",
        "print(\"Poker cold deck:\")\n",
        "stats(result, iterations)\n",
        "plt.bar(result.keys(), result.values(), 0.8, color='g');"
      ],
      "execution_count": null,
      "outputs": [
        {
          "output_type": "stream",
          "text": [
            "Poker cold deck:\n",
            "21 probability:  0.0\n",
            "Average card number: 0\n",
            "Max card number: 0\n"
          ],
          "name": "stdout"
        },
        {
          "output_type": "display_data",
          "data": {
            "image/png": "[encoded data removed]",
            "text/plain": [
              "<Figure size 432x288 with 1 Axes>"
            ]
          },
          "metadata": {
            "tags": [],
            "needs_background": "light"
          }
        }
      ]
    },
    {
      "cell_type": "code",
      "metadata": {
        "id": "RTrVkqV3Lb2R",
        "outputId": "52f01fc4-d0b2-4102-87b4-704515a34d8b",
        "colab": {
          "base_uri": "https://localhost:8080/",
          "height": 333
        }
      },
      "source": [
        "spanish_deck_cold = [3,4,6,10,10,10]*4 + [7,7,5,5,5]\n",
        "result = blackjack(iterations, spanish_deck_cold, init_deck)\n",
        "print(\"Spanich cold deck:\")\n",
        "stats(result, iterations)\n",
        "plt.bar(result.keys(), result.values(), 0.8, color='g');"
      ],
      "execution_count": null,
      "outputs": [
        {
          "output_type": "stream",
          "text": [
            "Spanich cold deck:\n",
            "21 probability:  0.0\n",
            "Average card number: 0\n",
            "Max card number: 0\n"
          ],
          "name": "stdout"
        },
        {
          "output_type": "display_data",
          "data": {
            "image/png": "[encoded data removed]",
            "text/plain": [
              "<Figure size 432x288 with 1 Axes>"
            ]
          },
          "metadata": {
            "tags": [],
            "needs_background": "light"
          }
        }
      ]
    },
    {
      "cell_type": "markdown",
      "metadata": {
        "id": "T93yeLIYPKzW"
      },
      "source": [
        "##Punto 5:\n",
        "Estimate the average amount of money (expected value) that Ben wins or losses on a weekend if Ben goes to Vegas every weekend (Friday, Saturday and Sunday), plays every weekend day 10 hours, each game takes 3 mins. Assume that for each game he gets two possibilities, in one he gets in his hand the cards [7,7,5] and a remaining hot deck with 8 cards in which case he bets \\$1000 this happens with probability 1/10; in the other one he gets no cards in his hand a complete shuffled deck in which case he bets \\$10, this happens with the remaining probability 9/10. Use 10000 Montecarlo simulations to estimated the expected amount of money that Ben wins or losses on a weekend for a Spanish 48-card deck with 3 10’s and for a Poker 52-card deck with 4 10’s."
      ]
    },
    {
      "cell_type": "markdown",
      "metadata": {
        "id": "83SXNO41ZfMr"
      },
      "source": [
        "La funcion ben_game calcula la cantidad estimada de dinero que puede ganar Ben"
      ]
    },
    {
      "cell_type": "code",
      "metadata": {
        "id": "pqahcu2UZbGN"
      },
      "source": [
        "def ben_game(deck_in, iterations, game_duration_mins = 3, gameplay_duration_hours = 10, \n",
        "             gameplay_duration_days = 3, hot_deck_prob = 1/10, cold_deck_prob = 9/10, \n",
        "             hot_deck_bet = 1000, cold_deck_bet = 10):\n",
        "  gameplay_total = 60 * gameplay_duration_hours * gameplay_duration_days / game_duration_mins\n",
        "  init_deck = [7,7,5]\n",
        "  hot_deck = [1,2]*4\n",
        "  bet = 0\n",
        "  wallet = 0\n",
        "  for game in range(int(gameplay_total)):\n",
        "    if (random.random()>hot_deck_prob):\n",
        "      result = blackjack(iterations, deck_in)\n",
        "      bet = cold_deck_bet\n",
        "    else:\n",
        "      result = blackjack(iterations, hot_deck, init_deck)\n",
        "      bet = hot_deck_bet\n",
        "    prob_success = sum(result.values())/iterations\n",
        "    if (random.random()<prob_success):\n",
        "      wallet += bet\n",
        "    else:\n",
        "      wallet -= bet\n",
        "  return wallet"
      ],
      "execution_count": null,
      "outputs": []
    },
    {
      "cell_type": "code",
      "metadata": {
        "id": "6Himg8ChPkuo",
        "outputId": "c1b577ed-cc4a-4a1e-a437-cec1d2a3c279",
        "colab": {
          "base_uri": "https://localhost:8080/",
          "height": 34
        }
      },
      "source": [
        "pocker_deck_m10 = [1,2,3,4,5,6,7,8,9,10,10,10,10]*4\n",
        "spanish_deck_m10 = [1,2,3,4,5,6,7,10,10,10]*4\n",
        "iterations = int(10e3)\n",
        "\n",
        "print(\"Average amount with pocker deck: $\", ben_game(pocker_deck_m10, iterations))\n",
        "print(\"Average amount with spanish deck: $\", ben_game(pocker_deck_m10, iterations))"
      ],
      "execution_count": null,
      "outputs": [
        {
          "output_type": "stream",
          "text": [
            "Average amount with pocker deck: $ 14180\n"
          ],
          "name": "stdout"
        }
      ]
    }
  ]
}